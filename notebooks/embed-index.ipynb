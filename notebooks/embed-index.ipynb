{
 "cells": [
  {
   "cell_type": "code",
   "execution_count": null,
   "id": "2193caa4",
   "metadata": {},
   "outputs": [],
   "source": [
    "import pandas as pd\n",
    "from sentence_transformers import SentenceTransformer\n",
    "from langchain.vectorstores import FAISS\n",
    "from langchain.embeddings import HuggingFaceEmbeddings\n",
    "from langchain.schema import Document\n",
    "from tqdm import tqdm  # 👈 progress bar\n",
    "import os\n",
    "\n",
    "# 1. Load your chunked data\n",
    "chunk_df = pd.read_csv(\"../data/chunked_complaints_500_100.csv\")\n",
    "print(\"✅ Loaded chunked complaints:\", chunk_df.shape)\n",
    "\n",
    "# 2. Prepare the embedding model\n",
    "embedding_model = HuggingFaceEmbeddings(\n",
    "    model_name=\"sentence-transformers/all-MiniLM-L6-v2\"\n",
    ")\n",
    "\n",
    "# 3. Convert to LangChain Documents with progress tracking\n",
    "documents = []\n",
    "\n",
    "print(\"📦 Preparing documents with metadata...\")\n",
    "for _, row in tqdm(chunk_df.iterrows(), total=len(chunk_df), desc=\"Creating documents\"):\n",
    "    documents.append(\n",
    "        Document(\n",
    "            page_content=row[\"text_chunk\"],\n",
    "            metadata={\n",
    "                \"complaint_id\": row[\"complaint_id\"],\n",
    "                \"product\": row[\"product\"]\n",
    "            }\n",
    "        )\n",
    "    )\n",
    "\n",
    "print(f\"✅ Prepared {len(documents)} documents.\")\n",
    "\n",
    "# 4. Create FAISS index from documents (progress shown by FAISS internally)\n",
    "print(\"⚙️ Embedding and indexing...\")\n",
    "vector_store = FAISS.from_documents(documents, embedding_model)\n",
    "\n",
    "# 5. Save to disk\n",
    "os.makedirs(\"../vector_store\", exist_ok=True)\n",
    "vector_store.save_local(\"../vector_store\")\n",
    "\n",
    "print(\"✅ FAISS vector store saved to: ../vector_store/\")\n"
   ]
  }
 ],
 "metadata": {
  "language_info": {
   "name": "python"
  }
 },
 "nbformat": 4,
 "nbformat_minor": 5
}
