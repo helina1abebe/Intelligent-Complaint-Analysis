{
 "cells": [
  {
   "cell_type": "markdown",
   "id": "f8129759",
   "metadata": {},
   "source": [
    "# Exploratory Data Analysis (EDA) of Consumer Complaints\n",
    "\n",
    "This notebook performs an exploratory data analysis on the consumer complaints dataset. It uses a modular script `EDA.py` which contains all the core functions for data loading, processing, and visualization. This approach keeps the notebook clean and focused on presenting the results and insights."
   ]
  },
  {
   "cell_type": "markdown",
   "id": "f1f2f583",
   "metadata": {},
   "source": [
    "### Step 1: Import Necessary Functions\n",
    "\n",
    "First, we import the required functions from our modular `EDA.py` script."
   ]
  },
  {
   "cell_type": "code",
   "execution_count": null,
   "id": "1ff443c2",
   "metadata": {},
   "outputs": [],
   "source": [
    "import pandas as pd\n",
    "import os\n",
    "from EDA import (\n",
    "    convert_csv_to_parquet,\n",
    "    load_data,\n",
    "    plot_product_distribution,\n",
    "    analyze_narrative_word_count,\n",
    "    plot_narrative_availability,\n",
    "    show_unique_products,\n",
    "    filter_and_process_complaints,\n",
    "    save_data\n",
    ")\n",
    "\n",
    "# Define file paths\n",
    "BASE_DATA_DIR = '../data'\n",
    "RAW_CSV_PATH = os.path.join(BASE_DATA_DIR, 'complaints.csv')\n",
    "RAW_PARQUET_PATH = os.path.join(BASE_DATA_DIR, 'raw_complaints.parquet')"
   ]
  },
  {
   "cell_type": "markdown",
   "id": "6bc6e03a",
   "metadata": {},
   "source": [
    "### Step 2: Data Conversion (One-Time Setup)\n",
    "\n",
    "Working with Parquet files is much more efficient for large datasets than CSV. This step converts the raw CSV into Parquet format. It only needs to be run once."
   ]
  },
  {
   "cell_type": "code",
   "execution_count": null,
   "id": "ec13d4c1",
   "metadata": {},
   "outputs": [],
   "source": [
    "# Check if the Parquet file already exists to avoid re-running\n",
    "if not os.path.exists(RAW_PARQUET_PATH):\n",
    "    convert_csv_to_parquet(RAW_CSV_PATH, RAW_PARQUET_PATH)\n",
    "else:\n",
    "    print(f\"Parquet file already exists at: {RAW_PARQUET_PATH}\")"
   ]
  },
  {
   "cell_type": "markdown",
   "id": "3554f6c4",
   "metadata": {},
   "source": [
    "### Step 3: Load and Inspect the Data\n",
    "\n",
    "Now we load the Parquet file and perform a quick inspection."
   ]
  },
  {
   "cell_type": "code",
   "execution_count": null,
   "id": "7d71885c",
   "metadata": {},
   "outputs": [],
   "source": [
    "df = load_data(RAW_PARQUET_PATH)\n",
    "df.head()"
   ]
  },
  {
   "cell_type": "code",
   "execution_count": null,
   "id": "b2a3c2aa",
   "metadata": {},
   "outputs": [],
   "source": [
    "df.info()"
   ]
  },
  {
   "cell_type": "markdown",
   "id": "aa2ae428",
   "metadata": {},
   "source": [
    "### Step 4: Analyze Complaint Distributions"
   ]
  },
  {
   "cell_type": "markdown",
   "id": "99ac9019",
   "metadata": {},
   "source": [
    "#### 4.1 Distribution of Complaints by Product\n",
    "\n",
    "Let's visualize the number of complaints for each product category."
   ]
  },
  {
   "cell_type": "code",
   "execution_count": null,
   "id": "086f143d",
   "metadata": {},
   "outputs": [],
   "source": [
    "plot_product_distribution(df)"
   ]
  },
  {
   "cell_type": "markdown",
   "id": "f49eee31",
   "metadata": {},
   "source": [
    "**Insight:** \"Credit reporting or other personal consumer reports\" is by far the most common complaint category."
   ]
  },
  {
   "cell_type": "markdown",
   "id": "1dba884c",
   "metadata": {},
   "source": [
    "#### 4.2 Availability of Complaint Narratives\n",
    "\n",
    "A significant part of our analysis will focus on the text narratives. Let's see how many complaints actually include a narrative."
   ]
  },
  {
   "cell_type": "code",
   "execution_count": null,
   "id": "8e8017e9",
   "metadata": {},
   "outputs": [],
   "source": [
    "plot_narrative_availability(df)"
   ]
  },
  {
   "cell_type": "markdown",
   "id": "d8315550",
   "metadata": {},
   "source": [
    "**Insight:** A large majority of the complaints (69.0%) do not have a narrative. This confirms that we must filter out these entries for any text-based analysis."
   ]
  },
  {
   "cell_type": "markdown",
   "id": "751aeefe",
   "metadata": {},
   "source": [
    "### Step 5: Analyze Narrative Content"
   ]
  },
  {
   "cell_type": "markdown",
   "id": "7c107b1a",
   "metadata": {},
   "source": [
    "#### 5.1 Word Count Distribution\n",
    "\n",
    "For the complaints that do have a narrative, let's analyze their length."
   ]
  },
  {
   "cell_type": "code",
   "execution_count": null,
   "id": "5a5a14a9",
   "metadata": {},
   "outputs": [],
   "source": [
    "analyze_narrative_word_count(df)"
   ]
  },
  {
   "cell_type": "markdown",
   "id": "510d407e",
   "metadata": {},
   "source": [
    "### 📊 Word Count Statistics for Complaint Narratives\n",
    "\n",
    "| Statistic | Meaning |\n",
    "|----------|---------|\n",
    "| **count** | Number of rows analyzed = **9.6 million complaints** |\n",
    "| **mean** | Average word count per complaint = **54.5 words** |\n",
    "| **std** | Standard deviation (variation) = **~149.8 words** |\n",
    "| **min** | Minimum word count = **0** (likely blank or missing narrative) |\n",
    "| **25%** | 25th percentile = **0** → at least 25% of complaints are empty |\n",
    "| **50%** | 50th percentile (median) = **0** → more than half are empty! |\n",
    "| **75%** | 75th percentile = **50** → 75% of entries are ≤ 50 words |\n",
    "| **max** | Longest complaint = **6,469 words** (very long!) |\n",
    "\n",
    "---\n",
    "\n",
    "### 🎯 Interpretation\n",
    "\n",
    "- Most complaints are **very short or empty**, which reinforces the need to **filter out entries with no narrative** in the next step.\n",
    "- The dataset is **heavily skewed**, with a small portion of **very long complaints**."
   ]
  },
  {
   "cell_type": "markdown",
   "id": "e465bdef",
   "metadata": {},
   "source": [
    "### Step 6: Filter and Clean Data\n",
    "\n",
    "Based on the EDA, we will now filter the dataset to meet the requirements for the next task: focus on specific products, ensure a narrative is present, and clean the text."
   ]
  },
  {
   "cell_type": "markdown",
   "id": "60afe168",
   "metadata": {},
   "source": [
    "#### 6.1 Identify Target Products\n",
    "\n",
    "First, let's review all unique product names to select the relevant ones."
   ]
  },
  {
   "cell_type": "code",
   "execution_count": null,
   "id": "09ab8210",
   "metadata": {},
   "outputs": [],
   "source": [
    "show_unique_products(df)"
   ]
  },
  {
   "cell_type": "markdown",
   "id": "765e8df6",
   "metadata": {},
   "source": [
    "#### 6.2 Apply Filtering and Cleaning\n",
    "\n",
    "We will filter for a consolidated list of product categories related to credit cards, personal loans, bank accounts, and money transfers. Then, we'll apply the text cleaning function."
   ]
  },
  {
   "cell_type": "code",
   "execution_count": null,
   "id": "924b8b9e",
   "metadata": {},
   "outputs": [],
   "source": [
    "TARGET_PRODUCTS = [\n",
    "    \"Credit card\",\n",
    "    \"Credit card or prepaid card\",\n",
    "    \"Payday loan, title loan, or personal loan\",\n",
    "    \"Payday loan, title loan, personal loan, or advance loan\",\n",
    "    \"Checking or savings account\",\n",
    "    \"Money transfers\",\n",
    "    \"Money transfer, virtual currency, or money service\"\n",
    "]\n",
    "\n",
    "df_filtered = filter_and_process_complaints(df, TARGET_PRODUCTS)"
   ]
  },
  {
   "cell_type": "markdown",
   "id": "4a48f13d",
   "metadata": {},
   "source": [
    "Let's check a sample to see the result of the cleaning."
   ]
  },
  {
   "cell_type": "code",
   "execution_count": null,
   "id": "067a6cfc",
   "metadata": {},
   "outputs": [],
   "source": [
    "df_filtered[['Product', 'Consumer complaint narrative', 'cleaned_narrative']].sample(3, random_state=42)"
   ]
  },
  {
   "cell_type": "markdown",
   "id": "56e55596",
   "metadata": {},
   "source": [
    "### Step 7: Save the Processed Data\n",
    "\n",
    "Finally, we save the cleaned and filtered DataFrame to a new CSV file for use in subsequent tasks."
   ]
  },
  {
   "cell_type": "code",
   "execution_count": null,
   "id": "f562049c",
   "metadata": {},
   "outputs": [],
   "source": [
    "FILTERED_CSV_PATH = os.path.join(BASE_DATA_DIR, 'filtered_complaints_2.csv')\n",
    "save_data(df_filtered, FILTERED_CSV_PATH)"
   ]
  }
 ],
 "metadata": {
  "kernelspec": {
   "display_name": "Python 3",
   "language": "python",
   "name": "python3"
  },
  "language_info": {
   "codemirror_mode": {
    "name": "ipython",
    "version": 3
   },
   "file_extension": ".py",
   "mimetype": "text/x-python",
   "name": "python",
   "nbconvert_exporter": "python",
   "pygments_lexer": "ipython3",
   "version": "3.11.0"
  }
 },
 "nbformat": 4,
 "nbformat_minor": 5
}
