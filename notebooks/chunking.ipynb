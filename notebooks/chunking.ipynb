{
 "cells": [
  {
   "cell_type": "code",
   "execution_count": 3,
   "id": "74be8df0",
   "metadata": {},
   "outputs": [
    {
     "name": "stdout",
     "output_type": "stream",
     "text": [
      "\n",
      "🔍 Testing chunk_size=300, chunk_overlap=50\n",
      "Total chunks: 2143457\n",
      "Average chunk length: 269.93 characters\n",
      "✅ Saved to ../data/chunked_complaints_300_50.csv\n",
      "\n",
      "🔍 Testing chunk_size=500, chunk_overlap=100\n",
      "Total chunks: 1381982\n",
      "Average chunk length: 426.99 characters\n",
      "✅ Saved to ../data/chunked_complaints_500_100.csv\n",
      "\n",
      "🔍 Testing chunk_size=700, chunk_overlap=150\n",
      "Total chunks: 1034331\n",
      "Average chunk length: 566.16 characters\n",
      "✅ Saved to ../data/chunked_complaints_700_150.csv\n"
     ]
    }
   ],
   "source": [
    "df = pd.read_csv(\"../data/filtered_complaints_2.csv\")\n",
    "\n",
    "# Try 3 setups\n",
    "configurations = [\n",
    "    {\"chunk_size\": 300, \"chunk_overlap\": 50},\n",
    "    {\"chunk_size\": 500, \"chunk_overlap\": 100},\n",
    "    {\"chunk_size\": 700, \"chunk_overlap\": 150}\n",
    "]\n",
    "\n",
    "# Loop over each config and compare\n",
    "for config in configurations:\n",
    "    size = config[\"chunk_size\"]\n",
    "    overlap = config[\"chunk_overlap\"]\n",
    "    \n",
    "    print(f\"\\n🔍 Testing chunk_size={size}, chunk_overlap={overlap}\")\n",
    "    chunked_df = chunk_complaints(df, size, overlap)\n",
    "    \n",
    "    print(f\"Total chunks: {len(chunked_df)}\")\n",
    "    print(f\"Average chunk length: {chunked_df['text_chunk'].apply(len).mean():.2f} characters\")\n",
    "    \n",
    "    # Save each version for inspection\n",
    "    filename = f\"../data/chunked_complaints_{size}_{overlap}.csv\"\n",
    "    chunked_df.to_csv(filename, index=False)\n",
    "    print(f\"✅ Saved to {filename}\")\n"
   ]
  },
  {
   "cell_type": "code",
   "execution_count": 1,
   "id": "d365e374",
   "metadata": {},
   "outputs": [
    {
     "name": "stdout",
     "output_type": "stream",
     "text": [
      "\n",
      "🔍 Testing chunk_size=300, chunk_overlap=50\n",
      "Total chunks: 2143457\n",
      "Average chunk length: 269.93 characters\n",
      "✅ Saved to ../data/chunked_complaints_300_50.csv\n",
      "\n",
      "🔍 Testing chunk_size=500, chunk_overlap=100\n",
      "Total chunks: 1381982\n",
      "Average chunk length: 426.99 characters\n",
      "✅ Saved to ../data/chunked_complaints_500_100.csv\n",
      "\n",
      "🔍 Testing chunk_size=700, chunk_overlap=150\n",
      "Total chunks: 1034331\n",
      "Average chunk length: 566.16 characters\n",
      "✅ Saved to ../data/chunked_complaints_700_150.csv\n"
     ]
    }
   ],
   "source": [
    "# Step 1: Add src to sys.path so we can import\n",
    "import sys\n",
    "sys.path.append(\"../src\")\n",
    "\n",
    "# Step 2: Import your custom module\n",
    "from chunking import run_chunking_experiments\n",
    "\n",
    "# Step 3: Load your cleaned complaint data\n",
    "import pandas as pd\n",
    "df = pd.read_csv(\"../data/filtered_complaints_2.csv\")\n",
    "\n",
    "# Step 4: Define configs and run\n",
    "configurations = [\n",
    "    {\"chunk_size\": 300, \"chunk_overlap\": 50},\n",
    "    {\"chunk_size\": 500, \"chunk_overlap\": 100},\n",
    "    {\"chunk_size\": 700, \"chunk_overlap\": 150}\n",
    "]\n",
    "\n",
    "run_chunking_experiments(df, configurations)\n"
   ]
  },
  {
   "cell_type": "markdown",
   "id": "a55b5023",
   "metadata": {},
   "source": [
    "### 🧪 Chunking Configuration Experiments\n",
    "\n",
    "| Chunk Size | Overlap | Total Chunks | Avg Length (chars) |\n",
    "|------------|---------|---------------|---------------------|\n",
    "| **300**    | 50      | 2,143,457     | 269.93              |\n",
    "| **500**    | 100     | 1,381,982     | 426.99              |\n",
    "| **700**    | 150     | 1,034,331     | 566.16              |\n",
    "\n",
    "---\n",
    "\n",
    "### ✅ Final Selection\n",
    "\n",
    "We selected:\n",
    "\n",
    "- `chunk_size = 500`\n",
    "- `chunk_overlap = 100`\n",
    "\n",
    "This configuration strikes a **good balance** between:\n",
    "\n",
    "- **Semantic coherence**\n",
    "- **Retrieval performance**\n",
    "- **Storage cost**\n",
    "\n",
    "It retains enough context for meaningful retrieval while avoiding excessive fragmentation or memory usage during vector indexing.\n"
   ]
  }
 ],
 "metadata": {
  "kernelspec": {
   "display_name": ".venv",
   "language": "python",
   "name": "python3"
  },
  "language_info": {
   "codemirror_mode": {
    "name": "ipython",
    "version": 3
   },
   "file_extension": ".py",
   "mimetype": "text/x-python",
   "name": "python",
   "nbconvert_exporter": "python",
   "pygments_lexer": "ipython3",
   "version": "3.13.1"
  }
 },
 "nbformat": 4,
 "nbformat_minor": 5
}
